{
 "cells": [
  {
   "cell_type": "markdown",
   "metadata": {},
   "source": [
    "<h1 align=\"center\" style=\"color: #A9A9A9;\"> Content </h1>"
   ]
  },
  {
   "cell_type": "markdown",
   "metadata": {},
   "source": [
    "### Prerequisites\n",
    "\n",
    "[Python Review](Notebooks/Python_Review.ipynb) &nbsp;|&nbsp;\n",
    "[Qiskit Review](Notebooks/Qiskit_Review.ipynb) \n",
    "\n",
    "<hr>"
   ]
  },
  {
   "cell_type": "markdown",
   "metadata": {},
   "source": [
    "### Protein Folding Problem\n",
    "\n",
    "[Theory of Protein Folding](Notebooks/Theory_of_Protein_Folding.ipynb) &nbsp;|&nbsp;\n",
    "[GROMAX software](Notebooks/GROMAX_software.ipynb) \n",
    "\n",
    "<hr>"
   ]
  },
  {
   "cell_type": "markdown",
   "metadata": {},
   "source": [
    "### Quantum Algorithms for Protein Folding Problem\n",
    "\n",
    "[Review the papers](Notebooks/Review_the_papers.ipynb) &nbsp;|&nbsp;\n",
    "[Variational Quantum Eigensolver(VQE)](Notebooks/QC_8_Variational_Quantum_Eigensolver.ipynb) &nbsp;|&nbsp;\n",
    "[Qiskit Nature](Notebooks/Qiskit_Nature.ipynb)\n",
    "\n",
    "<hr>"
   ]
  },
  {
   "cell_type": "markdown",
   "metadata": {},
   "source": [
    "[References](Notebooks/References.ipynb)"
   ]
  }
 ],
 "metadata": {
  "kernelspec": {
   "display_name": "Python 3 (ipykernel)",
   "language": "python",
   "name": "python3"
  },
  "language_info": {
   "codemirror_mode": {
    "name": "ipython",
    "version": 3
   },
   "file_extension": ".py",
   "mimetype": "text/x-python",
   "name": "python",
   "nbconvert_exporter": "python",
   "pygments_lexer": "ipython3",
   "version": "3.8.11"
  }
 },
 "nbformat": 4,
 "nbformat_minor": 2
}
