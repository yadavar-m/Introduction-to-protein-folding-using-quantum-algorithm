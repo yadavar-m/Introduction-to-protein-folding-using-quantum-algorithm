{
 "cells": [
  {
   "cell_type": "markdown",
   "id": "c1d2ef1a",
   "metadata": {},
   "source": [
    "# Qiskit_Review\n",
    "_prepared by Malihe Yadavar_"
   ]
  },
  {
   "cell_type": "markdown",
   "id": "373f64e5",
   "metadata": {},
   "source": [
    "Qiskit is ...."
   ]
  },
  {
   "cell_type": "markdown",
   "id": "7db77e8b",
   "metadata": {},
   "source": [
    "## Install"
   ]
  },
  {
   "cell_type": "code",
   "execution_count": null,
   "id": "286019de",
   "metadata": {},
   "outputs": [],
   "source": [
    "!pip install  ???"
   ]
  },
  {
   "cell_type": "code",
   "execution_count": null,
   "id": "77de29c9",
   "metadata": {},
   "outputs": [],
   "source": [
    "# import\n",
    "import qiskit"
   ]
  },
  {
   "cell_type": "markdown",
   "id": "a6c20093",
   "metadata": {},
   "source": [
    "##  A Sipmle Circuit"
   ]
  },
  {
   "cell_type": "code",
   "execution_count": null,
   "id": "ffa9da57",
   "metadata": {},
   "outputs": [],
   "source": []
  },
  {
   "cell_type": "markdown",
   "id": "0c569ac8",
   "metadata": {},
   "source": [
    "## Gates"
   ]
  },
  {
   "cell_type": "code",
   "execution_count": null,
   "id": "b1722e15",
   "metadata": {},
   "outputs": [],
   "source": [
    "# using wikipedia"
   ]
  },
  {
   "cell_type": "code",
   "execution_count": null,
   "id": "259d473d",
   "metadata": {},
   "outputs": [],
   "source": []
  },
  {
   "cell_type": "markdown",
   "id": "47edc935",
   "metadata": {},
   "source": [
    "### Pauli gates"
   ]
  },
  {
   "cell_type": "code",
   "execution_count": null,
   "id": "0bef5d1e",
   "metadata": {},
   "outputs": [],
   "source": []
  },
  {
   "cell_type": "markdown",
   "id": "bc2a94fd",
   "metadata": {},
   "source": [
    "## Simulators"
   ]
  },
  {
   "cell_type": "code",
   "execution_count": null,
   "id": "a4799607",
   "metadata": {},
   "outputs": [],
   "source": []
  },
  {
   "cell_type": "markdown",
   "id": "8a71b590",
   "metadata": {},
   "source": [
    "### Qasm Simulator"
   ]
  },
  {
   "cell_type": "code",
   "execution_count": null,
   "id": "d953a75f",
   "metadata": {},
   "outputs": [],
   "source": []
  },
  {
   "cell_type": "markdown",
   "id": "43e12661",
   "metadata": {},
   "source": [
    "### Statevector Simulator"
   ]
  },
  {
   "cell_type": "code",
   "execution_count": null,
   "id": "9ad17516",
   "metadata": {},
   "outputs": [],
   "source": []
  },
  {
   "cell_type": "markdown",
   "id": "0f778002",
   "metadata": {},
   "source": [
    "### Unitary Simulator"
   ]
  },
  {
   "cell_type": "code",
   "execution_count": null,
   "id": "8a5f5a54",
   "metadata": {},
   "outputs": [],
   "source": []
  },
  {
   "cell_type": "code",
   "execution_count": null,
   "id": "ce39e207",
   "metadata": {},
   "outputs": [],
   "source": []
  }
 ],
 "metadata": {
  "kernelspec": {
   "display_name": "Python 3 (ipykernel)",
   "language": "python",
   "name": "python3"
  },
  "language_info": {
   "codemirror_mode": {
    "name": "ipython",
    "version": 3
   },
   "file_extension": ".py",
   "mimetype": "text/x-python",
   "name": "python",
   "nbconvert_exporter": "python",
   "pygments_lexer": "ipython3",
   "version": "3.8.11"
  }
 },
 "nbformat": 4,
 "nbformat_minor": 5
}
