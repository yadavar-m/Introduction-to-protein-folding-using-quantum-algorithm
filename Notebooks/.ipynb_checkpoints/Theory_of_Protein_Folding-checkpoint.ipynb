{
 "cells": [
  {
   "cell_type": "markdown",
   "id": "e9fe24ee",
   "metadata": {},
   "source": []
  },
  {
   "cell_type": "markdown",
   "id": "01eb2f09",
   "metadata": {},
   "source": [
    "## Proteins"
   ]
  },
  {
   "cell_type": "markdown",
   "id": "9e641503",
   "metadata": {},
   "source": [
    "Proteins are complex and naturally occurring substances, which are the building blocks all the living organisms on earth. Its extreme complexity makes it even more hard to predict its folding. Proteins are made up combinations of amino acids. And particularly proteins are produced or present with various combinations of only 20 different amnio acids. "
   ]
  },
  {
   "cell_type": "markdown",
   "id": "b3408908",
   "metadata": {},
   "source": [
    "20 Amino Acids: \n",
    "\n",
    "Alanine, Arginine, Asparagine, Aspartic Acid, Cysteine, Glutamic acid, Glutamine, Glycine, Histidine, Isoleucine, Leucine, Lysine, Methionine, Phenylalanine, Proline, Serine, Threonine, Tryptophan, Tyrosine, Valine, Selenocysteine, Pyrrolysine (not used in human protein synthesis).\n",
    "\n",
    "\n",
    "<img src='../images/1.png' width=\"50%\" align=\"center\">"
   ]
  },
  {
   "cell_type": "markdown",
   "id": "1133072e",
   "metadata": {},
   "source": [
    "## Peptides"
   ]
  },
  {
   "cell_type": "markdown",
   "id": "758368e6",
   "metadata": {},
   "source": [
    "Peptides are generally subunits of proteins. Peptides are short chains which are combinations of two or more amino acids. Multiple peptides are also called as polypeptides. And protein is a combination of two or more polypeptides. \n",
    "polypeptide bonds:\n",
    "When a bond between an alpha-nitrogen atom of an amnio acid with the carbonyl carbon of second amnio acid, then this bond is termed as Peptide bond. The sequence of continuously forming polypeptide bonds is called as polypeptide backbone. \n",
    "\n",
    "\n",
    "<img src='../images/1.png' width=\"50%\" align=\"center\">\n"
   ]
  },
  {
   "cell_type": "markdown",
   "id": "b2f5ffc3",
   "metadata": {},
   "source": [
    "## Protein folding"
   ]
  },
  {
   "cell_type": "markdown",
   "id": "b0bd95e1",
   "metadata": {},
   "source": [
    "The spatial arraignments of protein sequence that can result in movement of the sequence without changing or breaking the protein sequence is called as protein conformations. \n",
    "\n",
    "Protein structures can be classified in four structures, primary, secondary, tertiary and quaternary.\n",
    "\n",
    "Primary Structure: \n",
    "\n",
    "It is the linear sequence of amnio acids of in a protein or polypeptide. The protein sequence, is generally formed between amine and carboxyl acids by covalent peptide bonds.\n",
    "\n",
    "Secondary Structure: \n",
    "\n",
    "It describes the arrangement protein sequences leading forming Alpha Helix and beat sheets, or random coils. This folding is due to hydrogen bonding at the non-adjacent amnio acids between amine and carboxyl acids.\n",
    "\n",
    "Alpha Helix:\n",
    "\n",
    "\n",
    "Beta Sheets:\n",
    "\n",
    "\n",
    "Tertiary Structures: \n",
    "\n",
    "It is complex molecular shape formed by protein polypeptide due to coiling and turns. These complex shapes and structures are formed due the interactions between R groups, H-bonds and Hydrophobic interactions as well.  \n",
    "\n",
    "Quaternary Structures:\n",
    "Multiple polypeptides interacting to form a single or larger biological active protein.\n"
   ]
  },
  {
   "cell_type": "markdown",
   "id": "6485dd8c",
   "metadata": {},
   "source": [
    "<img src='../pictures/VQE_2.png' width=\"50%\" align=\"center\">"
   ]
  },
  {
   "cell_type": "markdown",
   "id": "739030df",
   "metadata": {},
   "source": [
    "## Lattice Model"
   ]
  },
  {
   "cell_type": "markdown",
   "id": "b8ee73a9",
   "metadata": {},
   "source": [
    "Proteins are very complex natural polymers. Which makes it very hard to predict the protein folding pathways and fold stability. Recent developments and studies have progressed in understanding the problems in protein folding using simple thermotical models. Lattice model helps us understand protein folding to a certain extent by simplifying the protein folding in real space to a system in which a linear polymer folds on a lattice, so basically plotting the protein sequence on to the lattice points.\n",
    "\n",
    "With these simplifications, we can ease the problem with restrictions as well as compute them.\n",
    "\n",
    "Studying and implementing the protein sequence in the lattice model, can help us to design simple polymers which can fold into well-defined stable structure or shape. Then we can apply knowledge acquired from this model to determine the protein folding.\n"
   ]
  },
  {
   "cell_type": "markdown",
   "id": "47d1b257",
   "metadata": {},
   "source": [
    "## Why do we need quantum computing for protein folding?"
   ]
  },
  {
   "cell_type": "markdown",
   "id": "b9f066f5",
   "metadata": {},
   "source": [
    "Protein folding is a very complicated process. With increase in the number of sequences, the number of possible conformations increase exponentially. We can get billions of conformations for a given small sample of 100 amino acids. As number of Amino acids increases, number of possible conformations also increases extremely. And this is very hard to compute on present classical computers. But with Increase number of amino acids, number of qubits are also increased, so more computation space is created, and therefore a problem such as protein folding can be solved using quantum computers. Quantum computers can solve this kind BQP(bounded-error quantum polynomial time) problems at an unimaginable short period of time.  "
   ]
  },
  {
   "cell_type": "markdown",
   "id": "13f630de",
   "metadata": {},
   "source": [
    "## Miyazawa-Jernigan (MJ)  Model"
   ]
  },
  {
   "cell_type": "markdown",
   "id": "f7ac65a4",
   "metadata": {},
   "source": [
    "Miyazawa-Jernigan (MJ) is the energy matrix containing the potential caused between amnio acids of proteins. This derivation is based on a set of native structures, and the only information of structures manipulated in the analysis is the contact numbers of each residue.\n",
    "\n",
    "Eg: The example for MJ matrix of amino acids 'APRLRFY', \n",
    "\n"
   ]
  },
  {
   "cell_type": "markdown",
   "id": "38e71797",
   "metadata": {},
   "source": [
    "## Hydrophobic Model"
   ]
  },
  {
   "cell_type": "markdown",
   "id": "92dfaa50",
   "metadata": {},
   "source": [
    "From the below figure, every single “point” or “bead” is considered as an amino acid and its connections with other residues are considered as sequence chains. Planer and cubical lattice model are easy to compute whereas tetrahedral lattice model is complex and requires more computing power, similarly better results can be acquired using tetrahedral lattice structure than planar and cubic lattice structure. \n",
    "\n",
    "Hydrophobic-Polar model, is a simplified model describing the protein folding using the hydrophobic property of amino acids. Hydrophobic molecules tend cluster together, distancing themselves from the polar molecules, this makes it a very significant function in protein folding. All amino acid types are classified as either hydrophobic (H) or polar (P), and the folding of a protein sequence is defined as a self-avoiding walk in a 2D or 3D lattice. Of 20 amino acids, 9 of them classified as hydrophobic and rest 11 are classified as polar acids. \n",
    "\n",
    "HP model plays a very important role in reducing the cost of function. As it reduces the complexity of the function. For Eg.\n",
    "Let’s consider computing all possible protein sequences for a given 100 amnio acids,\n",
    "Without using HP model, the number of possible sequences would be 20^100.\n",
    "With using HP model, the number of possible sequences would reduce from 20^100 to 2^100. Which is because are segregating all 20 amnio acids in two groups, Hydrophobic(H) and Polar(P). It is not very accurate but has functional significance. It plays a major role in determining folding state of these proteins.\n",
    "\n",
    "To achieve a stable structure for the given amnio acids, we determine the interactions of (H) amnio acids with solvent. Of the all-lattice structures, the structure which has a greater number of conformations with minimum energy, is considered to be stable structure. Proteins that have minimum energy are assumed to be in their native state.\n",
    "\n",
    "To understand this better lets consider an example of 6 amino acids on a 3X2 lattice structure:\n",
    "So, all possible sequences would be 2^6 = 64 sequences. (Such as: HHHHHH, HHHHHP, HHHHPP, …., HPHPHP, PPPPHH,….)\n",
    "For 3X2 lattice structure, we can have 3 possible structures as in the below figure. All other structures are reflections of these structures. For simplicity, lets call structure 1 as ‘Pi’ structure, second as ‘S’ structure and third as ‘G’ structure. \n",
    "\n",
    "Considering the possible conformation for the sequence: PHPPHP on the 3 structures. The points in orange colour are Hydrophobic(H) and points in blue are Polar(P). The dotted lines are interactions between the hydrophobic molecule and solvent. We can notice that the ‘Pi’ structure has only 4 dotted lines, which means only 2 energy interactions. Whereas, ‘S’ and ‘G’ structures have 4 energy interactions each. For this Particular sequence, ‘Pi’ structure is stable structure and ‘Protein-like sequence’ because of minimum energy.\n",
    "\n",
    "\n",
    "Likewise, when we compute for all the 64 sequences, The structures with a particularly large number of ‘protein-like sequences’ associated with them are highly designable. \n",
    "\n",
    "\n",
    "\n",
    "From the results, off 18 ‘Protein-like sequences’, ‘Pi’ structure has 9, ‘S’ structure has 6 and ‘G’ has 3. All the remaining 46 sequences does yield same number of energy interactions, so they aren’t ‘Protein-like structures ’. \n",
    "\n",
    "\n",
    "\n",
    "\n",
    "\n",
    "To find the probability of native structure, we use the formula:\n",
    "\n",
    "\n",
    "\n",
    "\n",
    "Protein folding is complex problem, with increase in number of proteins, the number possible sequences increase exponentially, this cannot be computed easily on a classical computer. Using quantum computers, we can overcome this barrier and predict stable protein structures and sequences.\n"
   ]
  },
  {
   "cell_type": "code",
   "execution_count": null,
   "id": "278a6985",
   "metadata": {},
   "outputs": [],
   "source": []
  }
 ],
 "metadata": {
  "kernelspec": {
   "display_name": "Python 3",
   "language": "python",
   "name": "python3"
  },
  "language_info": {
   "codemirror_mode": {
    "name": "ipython",
    "version": 3
   },
   "file_extension": ".py",
   "mimetype": "text/x-python",
   "name": "python",
   "nbconvert_exporter": "python",
   "pygments_lexer": "ipython3",
   "version": "3.8.8"
  }
 },
 "nbformat": 4,
 "nbformat_minor": 5
}
