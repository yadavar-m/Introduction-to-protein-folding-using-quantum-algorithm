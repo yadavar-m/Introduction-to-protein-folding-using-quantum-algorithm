{
 "cells": [
  {
   "cell_type": "markdown",
   "id": "ef81aadb",
   "metadata": {},
   "source": [
    "## Variational Quantum Eigensolver"
   ]
  },
  {
   "cell_type": "markdown",
   "id": "59661cf4",
   "metadata": {},
   "source": [
    "A variational quantum eigen solver is very important algorithm in computing quantum chemistry. VQE is a hybrid algorithm. It is uses both quantum computer and a classical computer. \n",
    "Here in the VQE algorithm, we use quantum computers to operate on given variable parameters (computes the energy) and classical computers to perform the optimization of the results and then update the resultant values to the parameters and repeat until the find an optimal result.\n",
    "\n",
    "VQE uses the quantum computer for a state preparation (red box) and measurement subroutine (blue box), and the classical computer to process the measurement results and update the parameters of the quantum computer by optimization algorithm (green box)."
   ]
  },
  {
   "cell_type": "markdown",
   "id": "0a2b7246",
   "metadata": {},
   "source": [
    "## Quantum algorithm for Protein Folding "
   ]
  },
  {
   "cell_type": "markdown",
   "id": "724f04f1",
   "metadata": {},
   "source": [
    "We use this quantum algorithm because, every time we add a particle or molecule to the system the computational cost grows exponentially. Add this why we use quantum computers, as every time we add qubit to the system our computational spaces doubles. In protein folding problem, every time we add an amino acid, the complexity of problem increases exponentially."
   ]
  },
  {
   "cell_type": "markdown",
   "id": "46910a4b",
   "metadata": {},
   "source": [
    "The exponential growth of potential conformations with chain length makes the problem intractable for classical computers. In the quantum framework, our resource-efficient algorithm scales linearly with the number of amino acids N.\n",
    "In the protein folding notebook we discussed that, with growth of sequence, possible conformations and chain length increase, making the problem intractable for classical computers. Using quantum computers, the protein folding model from the research paper ‘Resource-Efficient Quantum Algorithm for Protein Folding’ scales linearly with the number of amino acids.\n"
   ]
  },
  {
   "cell_type": "markdown",
   "id": "5ed69944",
   "metadata": {},
   "source": [
    "In this protein folding model, the main aim is the find out the minimum energy conformation for the given protein sequence. We initialize with random configurations, then the protein sequence is optimized to the correct sequence which can produce minimum conformation energy. This can be achieved using VQE. First, we obtain Hamilton’s using MJ matrix model, then encode Hamilton’s into qubits and compute with stratifying all the physical constraints. The architecture of the VQE circuit is fixed but the parameters fed to the gates are not fixed, and then to convert quantum information back to classical information we want to measure some particular observables. Then, we use the classical computers to optimize the results and then feedback the results into the variable parameters and compute with present values. Repeat the process until we find the optimal result."
   ]
  },
  {
   "cell_type": "markdown",
   "id": "845f773e",
   "metadata": {},
   "source": [
    "VQE, generally primarily consist of 3 parts, but for protein folding problem we are adding with CVaR:\n",
    "\n",
    "Ansatzes\n",
    "\n",
    "Measurement\n",
    "\n",
    "Optimizer\n",
    "\n",
    "CVaR\n",
    "\n"
   ]
  },
  {
   "cell_type": "markdown",
   "id": "e7ff0971",
   "metadata": {},
   "source": [
    "## Ansatz "
   ]
  },
  {
   "cell_type": "markdown",
   "id": "2d4ffa66",
   "metadata": {},
   "source": [
    "An Ansatz is initial guess of the structure or the architecture of the program, so therefore an efficient Ansatz can provide us optimum results. It can be fixed or varied depending on the program. It is a fundamental ingredient of the program.\n",
    "\n",
    "\n",
    "In the context of variational circuits, an ansatz usually describes a subroutine consisting of a sequence of gates applied to specific wires. Similar to the architecture of a neural network, this only defines the base structure, while the types of gates and/or their free parameters can be optimized by the variational procedure.\n",
    "\n",
    "\n",
    "Many variational circuit ansatzes have been proposed by the quantum computing community. The strength of an ansatz depends on the desired use-case, and it is not always clear what makes a good ansatz.\n",
    "\n",
    "For this protein folding problem, we use ‘Real Amplitude’, as we are initializing ‘Ry’ gates in the beginning and end of the VQE circuit. \n"
   ]
  },
  {
   "cell_type": "markdown",
   "id": "dabf2baa",
   "metadata": {},
   "source": [
    "## Measurements"
   ]
  },
  {
   "cell_type": "markdown",
   "id": "873d4113",
   "metadata": {},
   "source": [
    "Since every time the parameters change, our results are also different but, as number of iterations increases, we shall be obtaining values very close the minimum conformation energy of that protein sequence. "
   ]
  },
  {
   "cell_type": "markdown",
   "id": "4af120fc",
   "metadata": {},
   "source": [
    "## Optimizer"
   ]
  },
  {
   "cell_type": "markdown",
   "id": "259b78e9",
   "metadata": {},
   "source": [
    "We use COBYLA – ‘Constrained Optimization BY Linear Approximation Optimizer’. The algorithm is based on linear approximations to the objective function and each constraint. COBYLA is a numerical optimization method for constrained problems where the derivative of the objective function is not known. "
   ]
  },
  {
   "cell_type": "markdown",
   "id": "af0ad307",
   "metadata": {},
   "source": [
    "## CVaR "
   ]
  },
  {
   "cell_type": "markdown",
   "id": "11770940",
   "metadata": {},
   "source": [
    "These wavefunctions are then measured to estimate the conformation energy (Conditional Value-at-Risk - CVaR). A loss function selects the solutions that minimize the conformation energy. These solutions (represented in green) constitute the next parent generation that is fed back to the genetic algorithm.\n"
   ]
  },
  {
   "cell_type": "code",
   "execution_count": null,
   "id": "13bbd4dc",
   "metadata": {},
   "outputs": [],
   "source": []
  }
 ],
 "metadata": {
  "kernelspec": {
   "display_name": "Python 3",
   "language": "python",
   "name": "python3"
  },
  "language_info": {
   "codemirror_mode": {
    "name": "ipython",
    "version": 3
   },
   "file_extension": ".py",
   "mimetype": "text/x-python",
   "name": "python",
   "nbconvert_exporter": "python",
   "pygments_lexer": "ipython3",
   "version": "3.8.8"
  }
 },
 "nbformat": 4,
 "nbformat_minor": 5
}
