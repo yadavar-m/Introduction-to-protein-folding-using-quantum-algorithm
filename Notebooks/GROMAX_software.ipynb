{
 "cells": [
  {
   "cell_type": "markdown",
   "id": "ff0c8a51",
   "metadata": {},
   "source": [
    "# GROMAX_software\n",
    "_prepared by ?_"
   ]
  },
  {
   "cell_type": "code",
   "execution_count": null,
   "id": "3f16e764",
   "metadata": {},
   "outputs": [],
   "source": []
  }
 ],
 "metadata": {
  "kernelspec": {
   "display_name": "Python 3 (ipykernel)",
   "language": "python",
   "name": "python3"
  },
  "language_info": {
   "codemirror_mode": {
    "name": "ipython",
    "version": 3
   },
   "file_extension": ".py",
   "mimetype": "text/x-python",
   "name": "python",
   "nbconvert_exporter": "python",
   "pygments_lexer": "ipython3",
   "version": "3.8.11"
  }
 },
 "nbformat": 4,
 "nbformat_minor": 5
}
